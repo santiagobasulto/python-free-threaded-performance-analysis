{
 "cells": [
  {
   "cell_type": "code",
   "execution_count": null,
   "id": "e1f023c1-7a41-4d6b-94bf-f2bc49db0057",
   "metadata": {},
   "outputs": [],
   "source": [
    "import json\n",
    "import pandas as pd\n",
    "import matplotlib.pyplot as plt"
   ]
  },
  {
   "cell_type": "code",
   "execution_count": null,
   "id": "596832bb-ce5e-43c9-bc4d-73a4d4859812",
   "metadata": {},
   "outputs": [],
   "source": [
    "import seaborn as sns"
   ]
  },
  {
   "cell_type": "markdown",
   "id": "b713f095-c7fe-47bf-8979-10d9d2cb9c6e",
   "metadata": {},
   "source": [
    "### Combining results"
   ]
  },
  {
   "cell_type": "code",
   "execution_count": null,
   "id": "3ee0ac2e-f52a-4a48-81d5-b6cc1980aaf1",
   "metadata": {},
   "outputs": [],
   "source": [
    "results = []\n",
    "patterns = [(\"normal_run*.txt\", \"normal_run\"), (\"taskset*.txt\", \"taskset\")]\n",
    "for pattern, name in patterns:\n",
    "    \n",
    "    for path in base_path.glob(pattern):\n",
    "        with path.open() as fp:\n",
    "            for line in fp:\n",
    "                results.append({**json.loads(line), \"experiment\": name})"
   ]
  },
  {
   "cell_type": "code",
   "execution_count": null,
   "id": "d22e604d-0358-4d89-b2bd-f9e20cdd43d6",
   "metadata": {},
   "outputs": [],
   "source": [
    "df = pd.DataFrame(results)\n",
    "df.head()"
   ]
  },
  {
   "cell_type": "code",
   "execution_count": null,
   "id": "bc2245d2-2394-485b-a303-543193627bbe",
   "metadata": {},
   "outputs": [],
   "source": [
    "df.shape"
   ]
  },
  {
   "cell_type": "code",
   "execution_count": null,
   "id": "b8744592-3901-4ef9-a53c-09091b27cd49",
   "metadata": {},
   "outputs": [],
   "source": [
    "import seaborn as sns\n",
    "import matplotlib.pyplot as plt"
   ]
  },
  {
   "cell_type": "code",
   "execution_count": null,
   "id": "57cd4815-e22d-4160-9f1b-3b9854b071b6",
   "metadata": {},
   "outputs": [],
   "source": [
    "fig, ax = plt.subplots(figsize=(14, 7))\n",
    "sns.boxplot(df.query(\"gil == 0 and num_threads == 100\"), x='command', y='time', hue='experiment', ax=ax)"
   ]
  },
  {
   "cell_type": "code",
   "execution_count": null,
   "id": "bb42a4c1-3c08-4f49-a952-a752f4215994",
   "metadata": {},
   "outputs": [],
   "source": [
    "stats_df = df.groupby(['experiment', 'command', 'gil', 'collection', 'num_threads'])['time'].agg(['mean', 'std'])\n",
    "stats_df"
   ]
  },
  {
   "cell_type": "code",
   "execution_count": null,
   "id": "8ea01291-f0d6-4349-b0af-c85e870edd6a",
   "metadata": {},
   "outputs": [],
   "source": [
    "stats_df['cv'] = (stats_df['std'] / stats_df['mean'])"
   ]
  },
  {
   "cell_type": "code",
   "execution_count": null,
   "id": "b3343cb7-9a70-46d7-b22d-61e490238e9a",
   "metadata": {},
   "outputs": [],
   "source": [
    "stats_df.sort_values(by='cv', ascending=False).reset_index().head(10)"
   ]
  },
  {
   "cell_type": "code",
   "execution_count": null,
   "id": "f4af0320-4a5c-4548-ba19-c5bf775ef5b6",
   "metadata": {},
   "outputs": [],
   "source": [
    "fig, ax = plt.subplots(figsize=(14, 7))\n",
    "sns.barplot(stats_df.sort_values(by='cv', ascending=False).reset_index(), x=\"command\", y=\"cv\", hue='experiment', ax=ax)"
   ]
  }
 ],
 "metadata": {
  "kernelspec": {
   "display_name": "Python 3 (ipykernel)",
   "language": "python",
   "name": "python3"
  },
  "language_info": {
   "codemirror_mode": {
    "name": "ipython",
    "version": 3
   },
   "file_extension": ".py",
   "mimetype": "text/x-python",
   "name": "python",
   "nbconvert_exporter": "python",
   "pygments_lexer": "ipython3",
   "version": "3.11.4"
  }
 },
 "nbformat": 4,
 "nbformat_minor": 5
}
